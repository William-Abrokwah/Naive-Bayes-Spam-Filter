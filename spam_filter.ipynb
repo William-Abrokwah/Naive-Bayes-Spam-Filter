{
 "cells": [
  {
   "cell_type": "markdown",
   "id": "7148da91",
   "metadata": {},
   "source": [
    "Introduction"
   ]
  },
  {
   "cell_type": "markdown",
   "id": "1e8d1342",
   "metadata": {},
   "source": [
    "Imports & Setup"
   ]
  },
  {
   "cell_type": "code",
   "execution_count": null,
   "id": "48e6b46b",
   "metadata": {},
   "outputs": [],
   "source": []
  },
  {
   "cell_type": "markdown",
   "id": "4d9c06d8",
   "metadata": {},
   "source": [
    "Data Loading"
   ]
  },
  {
   "cell_type": "markdown",
   "id": "bf6ed4f7",
   "metadata": {},
   "source": [
    "Preprocessing"
   ]
  },
  {
   "cell_type": "markdown",
   "id": "c3863ebb",
   "metadata": {},
   "source": [
    "Feature Extraction"
   ]
  },
  {
   "cell_type": "markdown",
   "id": "334b8b1c",
   "metadata": {},
   "source": [
    "Model Training"
   ]
  },
  {
   "cell_type": "markdown",
   "id": "22ebec67",
   "metadata": {},
   "source": [
    "Evaluation"
   ]
  },
  {
   "cell_type": "markdown",
   "id": "faf48cd1",
   "metadata": {},
   "source": [
    "Testing on Custom Messages"
   ]
  }
 ],
 "metadata": {
  "language_info": {
   "name": "python"
  }
 },
 "nbformat": 4,
 "nbformat_minor": 5
}
